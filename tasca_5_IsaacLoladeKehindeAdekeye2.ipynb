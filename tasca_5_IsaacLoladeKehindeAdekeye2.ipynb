{
  "cells": [
    {
      "cell_type": "code",
      "execution_count": 1,
      "metadata": {
        "colab": {
          "base_uri": "https://localhost:8080/"
        },
        "id": "0cm6prbBeYt3",
        "outputId": "df5b4173-6614-4644-b033-27cbfadf1135"
      },
      "outputs": [
        {
          "name": "stdout",
          "output_type": "stream",
          "text": [
            "Collecting datashader\n",
            "  Downloading datashader-0.17.0-py3-none-any.whl.metadata (7.6 kB)\n",
            "Requirement already satisfied: colorcet in /usr/local/lib/python3.11/dist-packages (from datashader) (3.1.0)\n",
            "Requirement already satisfied: multipledispatch in /usr/local/lib/python3.11/dist-packages (from datashader) (1.0.0)\n",
            "Requirement already satisfied: numba in /usr/local/lib/python3.11/dist-packages (from datashader) (0.60.0)\n",
            "Requirement already satisfied: numpy in /usr/local/lib/python3.11/dist-packages (from datashader) (1.26.4)\n",
            "Requirement already satisfied: packaging in /usr/local/lib/python3.11/dist-packages (from datashader) (24.2)\n",
            "Requirement already satisfied: pandas in /usr/local/lib/python3.11/dist-packages (from datashader) (2.2.2)\n",
            "Requirement already satisfied: param in /usr/local/lib/python3.11/dist-packages (from datashader) (2.2.0)\n",
            "Collecting pyct (from datashader)\n",
            "  Downloading pyct-0.5.0-py2.py3-none-any.whl.metadata (7.4 kB)\n",
            "Requirement already satisfied: requests in /usr/local/lib/python3.11/dist-packages (from datashader) (2.32.3)\n",
            "Requirement already satisfied: scipy in /usr/local/lib/python3.11/dist-packages (from datashader) (1.13.1)\n",
            "Requirement already satisfied: toolz in /usr/local/lib/python3.11/dist-packages (from datashader) (0.12.1)\n",
            "Requirement already satisfied: xarray in /usr/local/lib/python3.11/dist-packages (from datashader) (2025.1.1)\n",
            "Requirement already satisfied: llvmlite<0.44,>=0.43.0dev0 in /usr/local/lib/python3.11/dist-packages (from numba->datashader) (0.43.0)\n",
            "Requirement already satisfied: python-dateutil>=2.8.2 in /usr/local/lib/python3.11/dist-packages (from pandas->datashader) (2.8.2)\n",
            "Requirement already satisfied: pytz>=2020.1 in /usr/local/lib/python3.11/dist-packages (from pandas->datashader) (2024.2)\n",
            "Requirement already satisfied: tzdata>=2022.7 in /usr/local/lib/python3.11/dist-packages (from pandas->datashader) (2025.1)\n",
            "Requirement already satisfied: charset-normalizer<4,>=2 in /usr/local/lib/python3.11/dist-packages (from requests->datashader) (3.4.1)\n",
            "Requirement already satisfied: idna<4,>=2.5 in /usr/local/lib/python3.11/dist-packages (from requests->datashader) (3.10)\n",
            "Requirement already satisfied: urllib3<3,>=1.21.1 in /usr/local/lib/python3.11/dist-packages (from requests->datashader) (2.3.0)\n",
            "Requirement already satisfied: certifi>=2017.4.17 in /usr/local/lib/python3.11/dist-packages (from requests->datashader) (2024.12.14)\n",
            "Requirement already satisfied: six>=1.5 in /usr/local/lib/python3.11/dist-packages (from python-dateutil>=2.8.2->pandas->datashader) (1.17.0)\n",
            "Downloading datashader-0.17.0-py3-none-any.whl (18.3 MB)\n",
            "\u001b[2K   \u001b[90m━━━━━━━━━━━━━━━━━━━━━━━━━━━━━━━━━━━━━━━━\u001b[0m \u001b[32m18.3/18.3 MB\u001b[0m \u001b[31m63.1 MB/s\u001b[0m eta \u001b[36m0:00:00\u001b[0m\n",
            "\u001b[?25hDownloading pyct-0.5.0-py2.py3-none-any.whl (15 kB)\n",
            "Installing collected packages: pyct, datashader\n",
            "Successfully installed datashader-0.17.0 pyct-0.5.0\n",
            "Requirement already satisfied: pandas in /usr/local/lib/python3.11/dist-packages (2.2.2)\n",
            "Requirement already satisfied: numpy>=1.23.2 in /usr/local/lib/python3.11/dist-packages (from pandas) (1.26.4)\n",
            "Requirement already satisfied: python-dateutil>=2.8.2 in /usr/local/lib/python3.11/dist-packages (from pandas) (2.8.2)\n",
            "Requirement already satisfied: pytz>=2020.1 in /usr/local/lib/python3.11/dist-packages (from pandas) (2024.2)\n",
            "Requirement already satisfied: tzdata>=2022.7 in /usr/local/lib/python3.11/dist-packages (from pandas) (2025.1)\n",
            "Requirement already satisfied: six>=1.5 in /usr/local/lib/python3.11/dist-packages (from python-dateutil>=2.8.2->pandas) (1.17.0)\n",
            "Requirement already satisfied: numpy in /usr/local/lib/python3.11/dist-packages (1.26.4)\n",
            "Requirement already satisfied: dask[dataframe] in /usr/local/lib/python3.11/dist-packages (2024.10.0)\n",
            "Requirement already satisfied: click>=8.1 in /usr/local/lib/python3.11/dist-packages (from dask[dataframe]) (8.1.8)\n",
            "Requirement already satisfied: cloudpickle>=3.0.0 in /usr/local/lib/python3.11/dist-packages (from dask[dataframe]) (3.1.1)\n",
            "Requirement already satisfied: fsspec>=2021.09.0 in /usr/local/lib/python3.11/dist-packages (from dask[dataframe]) (2024.10.0)\n",
            "Requirement already satisfied: packaging>=20.0 in /usr/local/lib/python3.11/dist-packages (from dask[dataframe]) (24.2)\n",
            "Requirement already satisfied: partd>=1.4.0 in /usr/local/lib/python3.11/dist-packages (from dask[dataframe]) (1.4.2)\n",
            "Requirement already satisfied: pyyaml>=5.3.1 in /usr/local/lib/python3.11/dist-packages (from dask[dataframe]) (6.0.2)\n",
            "Requirement already satisfied: toolz>=0.10.0 in /usr/local/lib/python3.11/dist-packages (from dask[dataframe]) (0.12.1)\n",
            "Requirement already satisfied: importlib-metadata>=4.13.0 in /usr/local/lib/python3.11/dist-packages (from dask[dataframe]) (8.6.1)\n",
            "Requirement already satisfied: pandas>=2.0 in /usr/local/lib/python3.11/dist-packages (from dask[dataframe]) (2.2.2)\n",
            "Collecting dask-expr<1.2,>=1.1 (from dask[dataframe])\n",
            "  Downloading dask_expr-1.1.21-py3-none-any.whl.metadata (2.6 kB)\n",
            "INFO: pip is looking at multiple versions of dask-expr to determine which version is compatible with other requirements. This could take a while.\n",
            "  Downloading dask_expr-1.1.20-py3-none-any.whl.metadata (2.6 kB)\n",
            "  Downloading dask_expr-1.1.19-py3-none-any.whl.metadata (2.6 kB)\n",
            "  Downloading dask_expr-1.1.18-py3-none-any.whl.metadata (2.6 kB)\n",
            "  Downloading dask_expr-1.1.16-py3-none-any.whl.metadata (2.5 kB)\n",
            "Requirement already satisfied: pyarrow>=14.0.1 in /usr/local/lib/python3.11/dist-packages (from dask-expr<1.2,>=1.1->dask[dataframe]) (17.0.0)\n",
            "Requirement already satisfied: zipp>=3.20 in /usr/local/lib/python3.11/dist-packages (from importlib-metadata>=4.13.0->dask[dataframe]) (3.21.0)\n",
            "Requirement already satisfied: numpy>=1.23.2 in /usr/local/lib/python3.11/dist-packages (from pandas>=2.0->dask[dataframe]) (1.26.4)\n",
            "Requirement already satisfied: python-dateutil>=2.8.2 in /usr/local/lib/python3.11/dist-packages (from pandas>=2.0->dask[dataframe]) (2.8.2)\n",
            "Requirement already satisfied: pytz>=2020.1 in /usr/local/lib/python3.11/dist-packages (from pandas>=2.0->dask[dataframe]) (2024.2)\n",
            "Requirement already satisfied: tzdata>=2022.7 in /usr/local/lib/python3.11/dist-packages (from pandas>=2.0->dask[dataframe]) (2025.1)\n",
            "Requirement already satisfied: locket in /usr/local/lib/python3.11/dist-packages (from partd>=1.4.0->dask[dataframe]) (1.0.0)\n",
            "Requirement already satisfied: six>=1.5 in /usr/local/lib/python3.11/dist-packages (from python-dateutil>=2.8.2->pandas>=2.0->dask[dataframe]) (1.17.0)\n",
            "Downloading dask_expr-1.1.16-py3-none-any.whl (243 kB)\n",
            "\u001b[2K   \u001b[90m━━━━━━━━━━━━━━━━━━━━━━━━━━━━━━━━━━━━━━━━\u001b[0m \u001b[32m243.2/243.2 kB\u001b[0m \u001b[31m4.6 MB/s\u001b[0m eta \u001b[36m0:00:00\u001b[0m\n",
            "\u001b[?25hInstalling collected packages: dask-expr\n",
            "Successfully installed dask-expr-1.1.16\n"
          ]
        }
      ],
      "source": [
        "!pip install datashader\n",
        "!pip install pandas\n",
        "!pip install numpy\n",
        "!pip install dask[dataframe]\n"
      ]
    },
    {
      "cell_type": "code",
      "execution_count": 2,
      "metadata": {
        "colab": {
          "base_uri": "https://localhost:8080/"
        },
        "id": "b_WX4OmdhIw9",
        "outputId": "10c7eb89-4c40-4489-bdcc-a6bc5590e384"
      },
      "outputs": [
        {
          "name": "stderr",
          "output_type": "stream",
          "text": [
            "/usr/local/lib/python3.11/dist-packages/cudf/utils/_ptxcompiler.py:64: UserWarning: Error getting driver and runtime versions:\n",
            "\n",
            "stdout:\n",
            "\n",
            "\n",
            "\n",
            "stderr:\n",
            "\n",
            "Traceback (most recent call last):\n",
            "  File \"<string>\", line 4, in <module>\n",
            "  File \"/usr/local/lib/python3.11/dist-packages/numba_cuda/numba/cuda/cudadrv/driver.py\", line 272, in __getattr__\n",
            "    raise CudaSupportError(\"Error at driver init: \\n%s:\" %\n",
            "numba.cuda.cudadrv.error.CudaSupportError: Error at driver init: \n",
            "\n",
            "CUDA driver library cannot be found.\n",
            "If you are sure that a CUDA driver is installed,\n",
            "try setting environment variable NUMBA_CUDA_DRIVER\n",
            "with the file path of the CUDA driver shared library.\n",
            ":\n",
            "\n",
            "\n",
            "Not patching Numba\n",
            "  warnings.warn(msg, UserWarning)\n",
            "/usr/local/lib/python3.11/dist-packages/cudf/utils/gpu_utils.py:62: UserWarning: Failed to dlopen libcuda.so.1\n",
            "  warnings.warn(str(e))\n",
            "<ipython-input-2-1a7d3adc6d2c>:6: DtypeWarning: Columns (2,4,5,6,7) have mixed types. Specify dtype option on import or set low_memory=False.\n",
            "  datos = pd.read_csv('https://datosabiertos.jcyl.es/web/jcyl/risp/es/medio-ambiente/calidad-aire-historico-horario/1284808467480.csv', sep=\";\")\n"
          ]
        },
        {
          "name": "stdout",
          "output_type": "stream",
          "text": [
            "                  Fecha  CO (mg/m3) NO (ug/m3)  NO2 (ug/m3) O3 (ug/m3)  \\\n",
            "1   2019-01-01 00:00:00         NaN       52.0         33.0        2.0   \n",
            "97  2018-12-31 23:00:00         NaN       33.0         36.0        1.0   \n",
            "137 2018-12-31 22:00:00         NaN       48.0         45.0        2.0   \n",
            "173 2018-12-31 21:00:00         NaN       58.0         57.0        1.0   \n",
            "222 2018-12-31 20:00:00         NaN       86.0         67.0        1.0   \n",
            "\n",
            "    PM10 (ug/m3) PM25 (ug/m3) SO2 (ug/m3)   Provincia  Estación  Latitud  \\\n",
            "1            NaN          NaN         NaN  Valladolid  Renault1     41.6   \n",
            "97           NaN          NaN         NaN  Valladolid  Renault1     41.6   \n",
            "137          NaN          NaN         NaN  Valladolid  Renault1     41.6   \n",
            "173          NaN          NaN         NaN  Valladolid  Renault1     41.6   \n",
            "222          NaN          NaN         NaN  Valladolid  Renault1     41.6   \n",
            "\n",
            "     Longitud  \n",
            "1     -4.7325  \n",
            "97    -4.7325  \n",
            "137   -4.7325  \n",
            "173   -4.7325  \n",
            "222   -4.7325  \n"
          ]
        },
        {
          "name": "stderr",
          "output_type": "stream",
          "text": [
            "<ipython-input-2-1a7d3adc6d2c>:18: SettingWithCopyWarning: \n",
            "A value is trying to be set on a copy of a slice from a DataFrame.\n",
            "Try using .loc[row_indexer,col_indexer] = value instead\n",
            "\n",
            "See the caveats in the documentation: https://pandas.pydata.org/pandas-docs/stable/user_guide/indexing.html#returning-a-view-versus-a-copy\n",
            "  filtrado['Fecha'] = filtrado['Fecha'].apply(data_a_datetime)\n"
          ]
        }
      ],
      "source": [
        "import pandas as pd\n",
        "import numpy as np\n",
        "import datashader as ds\n",
        "import datashader.transfer_functions as tf\n",
        "\n",
        "datos = pd.read_csv('https://datosabiertos.jcyl.es/web/jcyl/risp/es/medio-ambiente/calidad-aire-historico-horario/1284808467480.csv', sep=\";\")\n",
        "\n",
        "filtrado = datos[(datos['Provincia'] == 'Valladolid') & (datos['Estación']== \"Renault1\")]\n",
        "\n",
        "\n",
        "def data_a_datetime(data_str):\n",
        "  data, hora_str = data_str.split()\n",
        "  if hora_str == '24':\n",
        "    return pd.to_datetime(data, dayfirst=True) + pd.DateOffset(days=1)\n",
        "  else:\n",
        "    return pd.to_datetime(data_str, dayfirst=True)\n",
        "\n",
        "filtrado['Fecha'] = filtrado['Fecha'].apply(data_a_datetime)\n",
        "print(filtrado.head())"
      ]
    },
    {
      "cell_type": "code",
      "execution_count": 7,
      "metadata": {
        "colab": {
          "base_uri": "https://localhost:8080/",
          "height": 539
        },
        "id": "uI0tpYd7hD7K",
        "outputId": "d51ef022-12ad-4315-a8d1-e8e834c55ef8"
      },
      "outputs": [
        {
          "name": "stderr",
          "output_type": "stream",
          "text": [
            "<ipython-input-7-84686a22507c>:1: SettingWithCopyWarning: \n",
            "A value is trying to be set on a copy of a slice from a DataFrame.\n",
            "Try using .loc[row_indexer,col_indexer] = value instead\n",
            "\n",
            "See the caveats in the documentation: https://pandas.pydata.org/pandas-docs/stable/user_guide/indexing.html#returning-a-view-versus-a-copy\n",
            "  filtrado['Fecha'] = filtrado['Fecha'].astype(int) / 10**9\n",
            "<ipython-input-7-84686a22507c>:2: SettingWithCopyWarning: \n",
            "A value is trying to be set on a copy of a slice from a DataFrame.\n",
            "Try using .loc[row_indexer,col_indexer] = value instead\n",
            "\n",
            "See the caveats in the documentation: https://pandas.pydata.org/pandas-docs/stable/user_guide/indexing.html#returning-a-view-versus-a-copy\n",
            "  filtrado['NO (ug/m3)'] = pd.to_numeric(filtrado['NO (ug/m3)'], errors='coerce')\n"
          ]
        },
        {
          "data": {
            "image/png": "[encoded data removed]",
            "text/html": [
              "<img style=\"margin: auto; border:1px solid\" src='data:image/png;base64,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'/>"
            ],
            "text/plain": [
              "<xarray.Image (NO (ug/m3): 300, Fecha: 500)> Size: 600kB\n",
              "array([[4287299584,          0,          0, ..., 4287299584, 4287299584,\n",
              "        4287299584],\n",
              "       [         0, 4287299584,          0, ..., 4287299584, 4287299584,\n",
              "        4287299584],\n",
              "       [         0,          0, 4287299584, ..., 4287299584, 4287299584,\n",
              "        4287299584],\n",
              "       ...,\n",
              "       [         0,          0,          0, ...,          0,          0,\n",
              "                 0],\n",
              "       [         0,          0,          0, ...,          0,          0,\n",
              "                 0],\n",
              "       [         0,          0,          0, ...,          0,          0,\n",
              "                 0]], dtype=uint32)\n",
              "Coordinates:\n",
              "  * Fecha       (Fecha) float64 4kB 0.8528 0.8542 0.8556 ... 1.543 1.544 1.546\n",
              "  * NO (ug/m3)  (NO (ug/m3)) float64 2kB 1.747 3.24 4.733 ... 445.3 446.8 448.3"
            ]
          },
          "execution_count": 7,
          "metadata": {},
          "output_type": "execute_result"
        }
      ],
      "source": [
        "filtrado['Fecha'] = filtrado['Fecha'].astype(int) / 10**9\n",
        "filtrado['NO (ug/m3)'] = pd.to_numeric(filtrado['NO (ug/m3)'], errors='coerce')\n",
        "x_range = (filtrado['Fecha'].min(), filtrado['Fecha'].max())\n",
        "y_range = (filtrado['NO (ug/m3)'].min(), filtrado['NO (ug/m3)'].max())\n",
        "cvs = ds.Canvas(plot_width=500, plot_height=300, x_range=x_range, y_range=y_range)\n",
        "agregado = cvs.line(filtrado, 'Fecha', 'NO (ug/m3)')\n",
        "tf.shade(agregado)\n"
      ]
    },
    {
      "cell_type": "code",
      "execution_count": 8,
      "metadata": {
        "colab": {
          "base_uri": "https://localhost:8080/",
          "height": 431
        },
        "id": "XFCbOkCNRKoz",
        "outputId": "6a7f3756-0ba9-4ae0-ff63-c3fa46b69c4f"
      },
      "outputs": [
        {
          "name": "stderr",
          "output_type": "stream",
          "text": [
            "<ipython-input-8-18c2dcbd1175>:1: SettingWithCopyWarning: \n",
            "A value is trying to be set on a copy of a slice from a DataFrame.\n",
            "Try using .loc[row_indexer,col_indexer] = value instead\n",
            "\n",
            "See the caveats in the documentation: https://pandas.pydata.org/pandas-docs/stable/user_guide/indexing.html#returning-a-view-versus-a-copy\n",
            "  filtrado['NO2 (ug/m3)'] = pd.to_numeric(filtrado['NO2 (ug/m3)'], errors='coerce')\n"
          ]
        },
        {
          "data": {
            "image/png": "[encoded data removed]",
            "text/html": [
              "<img style=\"margin: auto; border:1px solid\" src='data:image/png;base64,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'/>"
            ],
            "text/plain": [
              "<xarray.Image (NO2 (ug/m3): 300, Fecha: 500)> Size: 600kB\n",
              "array([[         0,          0,          0, ..., 4287299584, 4287299584,\n",
              "        4287299584],\n",
              "       [         0,          0,          0, ..., 4287299584, 4287299584,\n",
              "        4287299584],\n",
              "       [4287299584,          0,          0, ..., 4287299584, 4287299584,\n",
              "        4287299584],\n",
              "       ...,\n",
              "       [         0,          0,          0, ...,          0,          0,\n",
              "                 0],\n",
              "       [         0,          0,          0, ...,          0,          0,\n",
              "                 0],\n",
              "       [         0,          0,          0, ...,          0,          0,\n",
              "                 0]], dtype=uint32)\n",
              "Coordinates:\n",
              "  * Fecha        (Fecha) float64 4kB 0.8528 0.8542 0.8556 ... 1.543 1.544 1.546\n",
              "  * NO2 (ug/m3)  (NO2 (ug/m3)) float64 2kB 1.39 2.17 2.95 ... 233.0 233.8 234.6"
            ]
          },
          "execution_count": 8,
          "metadata": {},
          "output_type": "execute_result"
        }
      ],
      "source": [
        "filtrado['NO2 (ug/m3)'] = pd.to_numeric(filtrado['NO2 (ug/m3)'], errors='coerce')\n",
        "xx_range = (filtrado['Fecha'].min(), filtrado['Fecha'].max())\n",
        "yy_range = (filtrado['NO2 (ug/m3)'].min(), filtrado['NO2 (ug/m3)'].max())\n",
        "cvs2 = ds.Canvas(plot_width=500, plot_height=300, x_range=xx_range, y_range=yy_range)\n",
        "agregado2 = cvs2.line(filtrado, 'Fecha', 'NO2 (ug/m3)')\n",
        "tf.shade(agregado2)"
      ]
    },
    {
      "cell_type": "code",
      "execution_count": 11,
      "metadata": {
        "colab": {
          "base_uri": "https://localhost:8080/",
          "height": 323
        },
        "id": "tkkatCmkSXd3",
        "outputId": "521f8946-941f-4613-f437-f3aecc285d19"
      },
      "outputs": [
        {
          "data": {
            "image/png": "[encoded data removed]",
            "text/html": [
              "<img style=\"margin: auto; border:1px solid\" src='data:image/png;base64,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'/>"
            ],
            "text/plain": [
              "<xarray.Image (NO (ug/m3): 300, Fecha: 500)> Size: 600kB\n",
              "array([[4278190335,          0,          0, ..., 4294901760, 4294901760,\n",
              "        4294901760],\n",
              "       [         0, 4278190335,          0, ..., 4294901760, 4294901760,\n",
              "        4294901760],\n",
              "       [4294901760,          0, 4278190335, ..., 4294901760, 4294901760,\n",
              "        4294901760],\n",
              "       ...,\n",
              "       [         0,          0,          0, ...,          0,          0,\n",
              "                 0],\n",
              "       [         0,          0,          0, ...,          0,          0,\n",
              "                 0],\n",
              "       [         0,          0,          0, ...,          0,          0,\n",
              "                 0]], dtype=uint32)\n",
              "Coordinates:\n",
              "  * Fecha       (Fecha) float64 4kB 0.8528 0.8542 0.8556 ... 1.543 1.544 1.546\n",
              "  * NO (ug/m3)  (NO (ug/m3)) float64 2kB 1.747 3.24 4.733 ... 445.3 446.8 448.3"
            ]
          },
          "execution_count": 11,
          "metadata": {},
          "output_type": "execute_result"
        }
      ],
      "source": [
        "fecha = (min(filtrado['Fecha'].min(), filtrado['Fecha'].min()), max(filtrado['Fecha'].max(), filtrado['Fecha'].max()))\n",
        "valores = (min(filtrado['NO (ug/m3)'].min(), filtrado['NO2 (ug/m3)'].min()), max(filtrado['NO (ug/m3)'].max(), filtrado['NO2 (ug/m3)'].max()))\n",
        "agregado3 = cvs.line(filtrado, 'Fecha', 'NO (ug/m3)')\n",
        "agregado4 = cvs2.line(filtrado, 'Fecha', 'NO2 (ug/m3)')\n",
        "\n",
        "combi = tf.stack(tf.shade(agregado3, cmap=\"red\"), tf.shade(agregado4, cmap=\"blue\"))\n",
        "combi"
      ]
    }
  ],
  "metadata": {
    "colab": {
      "provenance": []
    },
    "kernelspec": {
      "display_name": ".si",
      "language": "python",
      "name": "python3"
    },
    "language_info": {
      "name": "python",
      "version": "3.12.8"
    }
  },
  "nbformat": 4,
  "nbformat_minor": 0
}
